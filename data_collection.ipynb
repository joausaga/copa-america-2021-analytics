{
 "cells": [
  {
   "cell_type": "markdown",
   "id": "897bd796",
   "metadata": {},
   "source": [
    "# Data Collection"
   ]
  },
  {
   "cell_type": "markdown",
   "id": "e5cef02d",
   "metadata": {},
   "source": [
    "Collecting data about the **`Copa America 2021's`** participants from **`FBref`**"
   ]
  },
  {
   "cell_type": "markdown",
   "id": "56170b6c",
   "metadata": {},
   "source": [
    "## Import libraries"
   ]
  },
  {
   "cell_type": "code",
   "execution_count": 1,
   "id": "d0717724",
   "metadata": {},
   "outputs": [],
   "source": [
    "import pandas as pd"
   ]
  },
  {
   "cell_type": "markdown",
   "id": "9b8821fa",
   "metadata": {},
   "source": [
    "## Prepare data"
   ]
  },
  {
   "cell_type": "code",
   "execution_count": 80,
   "id": "2b0a406b",
   "metadata": {},
   "outputs": [],
   "source": [
    "countries = {\n",
    "    'Argentina': 'f9fddd6e',\n",
    "    'Bolivia': '1bd2760c',\n",
    "    'Brazil': '304635c3',\n",
    "    'Chile': '7fd9c2a2',\n",
    "    'Colombia': 'ab73cfe5',\n",
    "    'Ecuador': '123acaf8',\n",
    "    'Paraguay': 'd2043442',\n",
    "    'Peru': 'f711c854',\n",
    "    'Uruguay': '870e020f',\n",
    "    'Venezuela': 'df384984'\n",
    "}"
   ]
  },
  {
   "cell_type": "code",
   "execution_count": 56,
   "id": "be965815",
   "metadata": {},
   "outputs": [],
   "source": [
    "tables_order = {\n",
    "    0: 'standard',\n",
    "    3: 'advance_goalkeeping',\n",
    "    4: 'shooting',\n",
    "    5: 'passing',\n",
    "    6: 'pass_types',\n",
    "    7: 'goal_and_shot_creation',\n",
    "    8: 'defensive_actions',\n",
    "    9: 'possession',\n",
    "    11: 'misc'\n",
    "}"
   ]
  },
  {
   "cell_type": "markdown",
   "id": "4fa0ee3c",
   "metadata": {},
   "source": [
    "## Read and process tables"
   ]
  },
  {
   "cell_type": "code",
   "execution_count": 82,
   "id": "aa67e172",
   "metadata": {},
   "outputs": [],
   "source": [
    "def get_column_names(table):\n",
    "    new_cols = []\n",
    "    for c in table.columns.values:\n",
    "        if 'Unnamed' in c[0]:\n",
    "            new_cols.append(c[1].lower())\n",
    "        else:\n",
    "            c_new_name = c[0].replace(' ','').lower()\n",
    "            c_new_name = f\"{c_new_name}_{c[1]}\"\n",
    "            new_cols.append(c_new_name.lower())\n",
    "    return new_cols"
   ]
  },
  {
   "cell_type": "code",
   "execution_count": 83,
   "id": "7f6042a7",
   "metadata": {},
   "outputs": [
    {
     "name": "stdout",
     "output_type": "stream",
     "text": [
      "Reading tables of Argentina...\n",
      "Processing tables of Argentina...\n",
      "Saving table standard...\n",
      "Saving table advance_goalkeeping...\n",
      "Saving table shooting...\n",
      "Saving table passing...\n",
      "Saving table pass_types...\n",
      "Saving table goal_and_shot_creation...\n",
      "Saving table defensive_actions...\n",
      "Saving table possession...\n",
      "Saving table misc...\n",
      "Reading tables of Bolivia...\n",
      "Processing tables of Bolivia...\n",
      "Saving table standard...\n",
      "Saving table advance_goalkeeping...\n",
      "Saving table shooting...\n",
      "Saving table passing...\n",
      "Saving table pass_types...\n",
      "Saving table goal_and_shot_creation...\n",
      "Saving table defensive_actions...\n",
      "Saving table possession...\n",
      "Saving table misc...\n",
      "Reading tables of Brazil...\n",
      "Processing tables of Brazil...\n",
      "Saving table standard...\n",
      "Saving table advance_goalkeeping...\n",
      "Saving table shooting...\n",
      "Saving table passing...\n",
      "Saving table pass_types...\n",
      "Saving table goal_and_shot_creation...\n",
      "Saving table defensive_actions...\n",
      "Saving table possession...\n",
      "Saving table misc...\n",
      "Reading tables of Chile...\n",
      "Processing tables of Chile...\n",
      "Saving table standard...\n",
      "Saving table advance_goalkeeping...\n",
      "Saving table shooting...\n",
      "Saving table passing...\n",
      "Saving table pass_types...\n",
      "Saving table goal_and_shot_creation...\n",
      "Saving table defensive_actions...\n",
      "Saving table possession...\n",
      "Saving table misc...\n",
      "Reading tables of Colombia...\n",
      "Processing tables of Colombia...\n",
      "Saving table standard...\n",
      "Saving table advance_goalkeeping...\n",
      "Saving table shooting...\n",
      "Saving table passing...\n",
      "Saving table pass_types...\n",
      "Saving table goal_and_shot_creation...\n",
      "Saving table defensive_actions...\n",
      "Saving table possession...\n",
      "Saving table misc...\n",
      "Reading tables of Ecuador...\n",
      "Processing tables of Ecuador...\n",
      "Saving table standard...\n",
      "Saving table advance_goalkeeping...\n",
      "Saving table shooting...\n",
      "Saving table passing...\n",
      "Saving table pass_types...\n",
      "Saving table goal_and_shot_creation...\n",
      "Saving table defensive_actions...\n",
      "Saving table possession...\n",
      "Saving table misc...\n",
      "Reading tables of Paraguay...\n",
      "Processing tables of Paraguay...\n",
      "Saving table standard...\n",
      "Saving table advance_goalkeeping...\n",
      "Saving table shooting...\n",
      "Saving table passing...\n",
      "Saving table pass_types...\n",
      "Saving table goal_and_shot_creation...\n",
      "Saving table defensive_actions...\n",
      "Saving table possession...\n",
      "Saving table misc...\n",
      "Reading tables of Peru...\n",
      "Processing tables of Peru...\n",
      "Saving table standard...\n",
      "Saving table advance_goalkeeping...\n",
      "Saving table shooting...\n",
      "Saving table passing...\n",
      "Saving table pass_types...\n",
      "Saving table goal_and_shot_creation...\n",
      "Saving table defensive_actions...\n",
      "Saving table possession...\n",
      "Saving table misc...\n",
      "Reading tables of Uruguay...\n",
      "Processing tables of Uruguay...\n",
      "Saving table standard...\n",
      "Saving table advance_goalkeeping...\n",
      "Saving table shooting...\n",
      "Saving table passing...\n",
      "Saving table pass_types...\n",
      "Saving table goal_and_shot_creation...\n",
      "Saving table defensive_actions...\n",
      "Saving table possession...\n",
      "Saving table misc...\n",
      "Reading tables of Venezuela...\n",
      "Processing tables of Venezuela...\n",
      "Saving table standard...\n",
      "Saving table advance_goalkeeping...\n",
      "Saving table shooting...\n",
      "Saving table passing...\n",
      "Saving table pass_types...\n",
      "Saving table goal_and_shot_creation...\n",
      "Saving table defensive_actions...\n",
      "Saving table possession...\n",
      "Saving table misc...\n"
     ]
    }
   ],
   "source": [
    "for country, code in countries.items():\n",
    "    # read tables\n",
    "    print(f\"Reading tables of {country}...\")\n",
    "    tables = pd.read_html(f\"https://fbref.com/en/squads/{code}/2021/{country.lower()}-Stats\")\n",
    "    # process tables\n",
    "    print(f\"Processing tables of {country}...\")\n",
    "    for idx, table in enumerate(tables):\n",
    "        if idx in tables_order.keys():\n",
    "            new_cols = get_column_names(table)\n",
    "            table.columns = new_cols\n",
    "            print(f\"Saving table {tables_order[idx]}...\")\n",
    "            table.to_csv(f\"data/{country.lower()}_{tables_order[idx]}.csv\", index=False)"
   ]
  }
 ],
 "metadata": {
  "kernelspec": {
   "display_name": "Python 3 (ipykernel)",
   "language": "python",
   "name": "python3"
  },
  "language_info": {
   "codemirror_mode": {
    "name": "ipython",
    "version": 3
   },
   "file_extension": ".py",
   "mimetype": "text/x-python",
   "name": "python",
   "nbconvert_exporter": "python",
   "pygments_lexer": "ipython3",
   "version": "3.8.0"
  }
 },
 "nbformat": 4,
 "nbformat_minor": 5
}
